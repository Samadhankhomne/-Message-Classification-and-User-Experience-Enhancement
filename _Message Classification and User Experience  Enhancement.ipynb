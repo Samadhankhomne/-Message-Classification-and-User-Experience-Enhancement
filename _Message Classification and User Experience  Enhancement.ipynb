{
 "cells": [
  {
   "cell_type": "code",
   "execution_count": 47,
   "id": "78903e0f-7741-4ffa-ae1d-096236505e70",
   "metadata": {},
   "outputs": [],
   "source": [
    "import pandas as pd\n",
    "from sklearn.model_selection import train_test_split\n",
    "from sklearn.feature_extraction.text import TfidfVectorizer\n",
    "from sklearn.linear_model import LogisticRegression\n",
    "from sklearn.metrics import accuracy_score, classification_report"
   ]
  },
  {
   "cell_type": "code",
   "execution_count": 49,
   "id": "e654a21e-0a34-4467-92a6-588327b6bbcf",
   "metadata": {},
   "outputs": [],
   "source": [
    "# Sample Dataset (Replace with real dataset)\n",
    "data = {\n",
    "    \"message\": [\n",
    "        \"Your OTP is 123456\",\n",
    "        \"Win $1000 now! Click this link!\",\n",
    "        \"Your package will arrive tomorrow.\",\n",
    "        \"Urgent! Update your account details.\",\n",
    "        \"Power bill due: Pay $50 now.\"\n",
    "    ],\n",
    "    \"label\": [\"otp\", \"spam\", \"logistic\", \"fraud\", \"transactional\"]  # Labels\n",
    "}\n",
    "\n",
    "df = pd.DataFrame(data)"
   ]
  },
  {
   "cell_type": "code",
   "execution_count": 51,
   "id": "54429b57-01c0-4142-bf60-08148f718979",
   "metadata": {},
   "outputs": [],
   "source": [
    "# Convert labels to numeric\n",
    "label_map = {\"spam\": 0, \"fraud\": 1, \"otp\": 2, \"logistic\": 3, \"transactional\": 4}\n",
    "df['label'] = df['label'].map(label_map)\n",
    "\n",
    "# Train-test split\n",
    "X_train, X_test, y_train, y_test = train_test_split(df['message'], df['label'], test_size=0.2, random_state=42)"
   ]
  },
  {
   "cell_type": "code",
   "execution_count": 53,
   "id": "ec6a901f-37e7-4382-bb50-da6228b8dab3",
   "metadata": {},
   "outputs": [],
   "source": [
    "# TF-IDF Vectorization\n",
    "vectorizer = TfidfVectorizer(max_features=500)\n",
    "X_train_tfidf = vectorizer.fit_transform(X_train)\n",
    "X_test_tfidf = vectorizer.transform(X_test)\n"
   ]
  },
  {
   "cell_type": "code",
   "execution_count": 55,
   "id": "36623975-94d0-4e40-b5a1-bfa92e28e7a8",
   "metadata": {},
   "outputs": [
    {
     "name": "stdout",
     "output_type": "stream",
     "text": [
      "Accuracy: 0.0\n",
      "Classification Report:\n",
      "               precision    recall  f1-score   support\n",
      "\n",
      "           0       0.00      0.00      0.00       1.0\n",
      "           4       0.00      0.00      0.00       0.0\n",
      "\n",
      "    accuracy                           0.00       1.0\n",
      "   macro avg       0.00      0.00      0.00       1.0\n",
      "weighted avg       0.00      0.00      0.00       1.0\n",
      "\n"
     ]
    },
    {
     "name": "stderr",
     "output_type": "stream",
     "text": [
      "C:\\Users\\91976\\anaconda3\\Lib\\site-packages\\sklearn\\metrics\\_classification.py:1531: UndefinedMetricWarning: Precision is ill-defined and being set to 0.0 in labels with no predicted samples. Use `zero_division` parameter to control this behavior.\n",
      "  _warn_prf(average, modifier, f\"{metric.capitalize()} is\", len(result))\n",
      "C:\\Users\\91976\\anaconda3\\Lib\\site-packages\\sklearn\\metrics\\_classification.py:1531: UndefinedMetricWarning: Recall is ill-defined and being set to 0.0 in labels with no true samples. Use `zero_division` parameter to control this behavior.\n",
      "  _warn_prf(average, modifier, f\"{metric.capitalize()} is\", len(result))\n",
      "C:\\Users\\91976\\anaconda3\\Lib\\site-packages\\sklearn\\metrics\\_classification.py:1531: UndefinedMetricWarning: Precision is ill-defined and being set to 0.0 in labels with no predicted samples. Use `zero_division` parameter to control this behavior.\n",
      "  _warn_prf(average, modifier, f\"{metric.capitalize()} is\", len(result))\n",
      "C:\\Users\\91976\\anaconda3\\Lib\\site-packages\\sklearn\\metrics\\_classification.py:1531: UndefinedMetricWarning: Recall is ill-defined and being set to 0.0 in labels with no true samples. Use `zero_division` parameter to control this behavior.\n",
      "  _warn_prf(average, modifier, f\"{metric.capitalize()} is\", len(result))\n",
      "C:\\Users\\91976\\anaconda3\\Lib\\site-packages\\sklearn\\metrics\\_classification.py:1531: UndefinedMetricWarning: Precision is ill-defined and being set to 0.0 in labels with no predicted samples. Use `zero_division` parameter to control this behavior.\n",
      "  _warn_prf(average, modifier, f\"{metric.capitalize()} is\", len(result))\n",
      "C:\\Users\\91976\\anaconda3\\Lib\\site-packages\\sklearn\\metrics\\_classification.py:1531: UndefinedMetricWarning: Recall is ill-defined and being set to 0.0 in labels with no true samples. Use `zero_division` parameter to control this behavior.\n",
      "  _warn_prf(average, modifier, f\"{metric.capitalize()} is\", len(result))\n"
     ]
    }
   ],
   "source": [
    "# Logistic Regression Model\n",
    "model = LogisticRegression()\n",
    "model.fit(X_train_tfidf, y_train)\n",
    "\n",
    "# Predictions\n",
    "y_pred = model.predict(X_test_tfidf)\n",
    "\n",
    "# Evaluation\n",
    "print(\"Accuracy:\", accuracy_score(y_test, y_pred))\n",
    "print(\"Classification Report:\\n\", classification_report(y_test, y_pred))\n",
    "\n"
   ]
  },
  {
   "cell_type": "code",
   "execution_count": 13,
   "id": "4deffad3-9116-4745-ac81-b3867812b4a2",
   "metadata": {},
   "outputs": [
    {
     "name": "stdout",
     "output_type": "stream",
     "text": [
      "Message: 'Your OTP is 789123' -> Classified as: otp\n",
      "Message: 'Congratulations! You've won a free vacation.' -> Classified as: transactional\n",
      "Message: 'Your order has been shipped. Track it here.' -> Classified as: otp\n"
     ]
    }
   ],
   "source": [
    "def classify_message(message):\n",
    "    # Transform the message\n",
    "    message_tfidf = vectorizer.transform([message])\n",
    "    label_num = model.predict(message_tfidf)[0]\n",
    "    \n",
    "    # Map back to label\n",
    "    label_reverse_map = {v: k for k, v in label_map.items()}\n",
    "    return label_reverse_map[label_num]\n",
    "\n",
    "# Test with new messages\n",
    "test_messages = [\n",
    "    \"Your OTP is 789123\",\n",
    "    \"Congratulations! You've won a free vacation.\",\n",
    "    \"Your order has been shipped. Track it here.\"\n",
    "]\n",
    "\n",
    "for msg in test_messages:\n",
    "    print(f\"Message: '{msg}' -> Classified as: {classify_message(msg)}\")\n"
   ]
  },
  {
   "cell_type": "code",
   "execution_count": null,
   "id": "94b7f99b-af96-4426-a371-2d40b0c106f7",
   "metadata": {},
   "outputs": [],
   "source": []
  }
 ],
 "metadata": {
  "kernelspec": {
   "display_name": "Python 3 (ipykernel)",
   "language": "python",
   "name": "python3"
  },
  "language_info": {
   "codemirror_mode": {
    "name": "ipython",
    "version": 3
   },
   "file_extension": ".py",
   "mimetype": "text/x-python",
   "name": "python",
   "nbconvert_exporter": "python",
   "pygments_lexer": "ipython3",
   "version": "3.12.4"
  }
 },
 "nbformat": 4,
 "nbformat_minor": 5
}
